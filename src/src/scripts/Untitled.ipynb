{
 "cells": [
  {
   "cell_type": "code",
   "execution_count": null,
   "id": "b7602b34",
   "metadata": {},
   "outputs": [],
   "source": [
    "#for K in np.logspace(0.6, 2.2, num=25, dtype=int):\n",
    "\n",
    "for K in [50]:\n",
    "train_matrix = loader._load_train_data()\n",
    "train_data = loader.load_data('train')\n",
    "vad_data_tr, vad_data_te = loader.load_data('validation')\n",
    "model = OtherRecsALSRecommenderKNN(train_data=train_data,\n",
    "train_matrix=train_matrix,\n",
    "vad_data_te=vad_data_te,\n",
    "vad_data_tr=vad_data_tr)\n",
    "hyperparams = {'metric': 'angular', 'alpha': 40, 'factors': 64, 'K': K}"
   ]
  }
 ],
 "metadata": {
  "kernelspec": {
   "display_name": "Python 3",
   "language": "python",
   "name": "python3"
  },
  "language_info": {
   "codemirror_mode": {
    "name": "ipython",
    "version": 3
   },
   "file_extension": ".py",
   "mimetype": "text/x-python",
   "name": "python",
   "nbconvert_exporter": "python",
   "pygments_lexer": "ipython3",
   "version": "3.8.12"
  }
 },
 "nbformat": 4,
 "nbformat_minor": 5
}
